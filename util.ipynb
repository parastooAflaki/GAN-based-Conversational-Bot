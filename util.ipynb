{
 "cells": [
  {
   "cell_type": "code",
   "execution_count": 20,
   "metadata": {},
   "outputs": [],
   "source": [
    "import torch.nn as nn\n",
    "import torch\n",
    "m = nn.Linear(3, 5)"
   ]
  },
  {
   "cell_type": "code",
   "execution_count": 21,
   "metadata": {},
   "outputs": [
    {
     "data": {
      "text/plain": [
       "tensor([[ 0.2562,  0.1317, -0.6589],\n",
       "        [-1.0391, -0.4555, -1.1375],\n",
       "        [-0.5660,  0.3490,  0.4192],\n",
       "        [ 1.1308, -1.2806,  1.1526],\n",
       "        [ 0.1411,  1.4243, -0.8320],\n",
       "        [-0.7661, -0.3592,  1.6762],\n",
       "        [-0.8154,  0.0034, -1.2402],\n",
       "        [-0.1616,  0.3790,  1.8003],\n",
       "        [ 0.1366,  0.2582, -1.2251],\n",
       "        [ 0.9389, -0.3511,  0.8199]])"
      ]
     },
     "execution_count": 21,
     "metadata": {},
     "output_type": "execute_result"
    }
   ],
   "source": [
    "input = torch.randn(10,3)\n",
    "input"
   ]
  },
  {
   "cell_type": "code",
   "execution_count": 22,
   "metadata": {},
   "outputs": [
    {
     "data": {
      "text/plain": [
       "tensor([[ 0.0312, -0.4003, -0.3258,  0.3520,  0.1920],\n",
       "        [ 1.0519, -0.0433, -0.4476,  0.1996,  0.2021],\n",
       "        [ 0.0837, -0.0205, -0.1996, -0.2507,  0.0655],\n",
       "        [-0.0384, -0.6441,  0.2541, -0.0887, -1.0920],\n",
       "        [-0.5442, -0.2870, -0.5155,  0.3856,  0.8552],\n",
       "        [ 0.2795,  0.1009,  0.1128, -0.7610, -0.6110],\n",
       "        [ 0.7303, -0.0955, -0.5037,  0.2936,  0.4208],\n",
       "        [-0.4154, -0.0420,  0.0973, -0.6537, -0.3712],\n",
       "        [ 0.1422, -0.3975, -0.4600,  0.5289,  0.4303],\n",
       "        [-0.3564, -0.5428,  0.0690, -0.0160, -0.5419]],\n",
       "       grad_fn=<AddmmBackward>)"
      ]
     },
     "execution_count": 22,
     "metadata": {},
     "output_type": "execute_result"
    }
   ],
   "source": [
    "m(input)"
   ]
  },
  {
   "cell_type": "code",
   "execution_count": 29,
   "metadata": {},
   "outputs": [
    {
     "data": {
      "text/plain": [
       "tensor([[0.8749, 0.7416, 0.3566],\n",
       "        [0.1968, 0.8250, 0.6864],\n",
       "        [0.7481, 0.3506, 0.3016]])"
      ]
     },
     "execution_count": 29,
     "metadata": {},
     "output_type": "execute_result"
    }
   ],
   "source": [
    "rand_noise = torch.rand(size = (3,3))\n",
    "rand_noise"
   ]
  },
  {
   "cell_type": "code",
   "execution_count": 33,
   "metadata": {},
   "outputs": [
    {
     "data": {
      "text/plain": [
       "tensor([[-0.7607, -1.0012, -0.2644],\n",
       "        [ 0.2550, -0.6453,  1.7756],\n",
       "        [ 1.3425,  2.1105,  0.0536]], device='cuda:0')"
      ]
     },
     "execution_count": 33,
     "metadata": {},
     "output_type": "execute_result"
    }
   ],
   "source": [
    "from torch.autograd import Variable\n",
    "normal_rand_noise = Variable(rand_noise.normal_(mean= 0 , std = 1),requires_grad=False).cuda()\n",
    "normal_rand_noise"
   ]
  },
  {
   "cell_type": "code",
   "execution_count": null,
   "metadata": {},
   "outputs": [],
   "source": []
  }
 ],
 "metadata": {
  "kernelspec": {
   "display_name": "Python 3",
   "language": "python",
   "name": "python3"
  },
  "language_info": {
   "codemirror_mode": {
    "name": "ipython",
    "version": 3
   },
   "file_extension": ".py",
   "mimetype": "text/x-python",
   "name": "python",
   "nbconvert_exporter": "python",
   "pygments_lexer": "ipython3",
   "version": "3.8.5"
  }
 },
 "nbformat": 4,
 "nbformat_minor": 4
}
